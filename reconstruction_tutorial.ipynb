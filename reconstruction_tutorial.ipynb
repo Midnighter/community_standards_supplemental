{
 "cells": [
  {
   "cell_type": "markdown",
   "metadata": {},
   "source": [
    "# Metabolic Network Reconstruction Tutorial"
   ]
  },
  {
   "cell_type": "markdown",
   "metadata": {},
   "source": [
    "In the following tutorial you will learn how to manipulate a metabolic model with [cobrapy](https://cobrapy.readthedocs.io/en/latest/) such that you can conform with the recommendations of **Box 2** [in the manuscript on community standards](https://doi.org/10.1101/700112)."
   ]
  },
  {
   "cell_type": "markdown",
   "metadata": {},
   "source": [
    "From the caption of **Box 2** itself:\n",
    "\n",
    "> Proposed minimum standardized content for a metabolic network reconstruction. We propose that modelers use this list as a guide to help standardize accessibility, content, and quality; however, more comprehensive documentation and more interpretablee and accessible information can only improve the usability and biological relevance of the shared reconstruction."
   ]
  },
  {
   "cell_type": "markdown",
   "metadata": {},
   "source": [
    "Throughout this tutorial we will look at content from the example reconstruction `iPfal19.xml` for _Plasmodium falciparum_ 3D7 provided with the publication, as well as building a minimal example from scratch. Each section will show:\n",
    "\n",
    "1. Python code needed for the inspection and manipulation of a metabolic reconstruction.\n",
    "2. Excerpts from the resulting [SBML](http://sbml.org/) that is automatically generated."
   ]
  },
  {
   "cell_type": "code",
   "execution_count": 1,
   "metadata": {},
   "outputs": [],
   "source": [
    "import logging"
   ]
  },
  {
   "cell_type": "code",
   "execution_count": 2,
   "metadata": {},
   "outputs": [],
   "source": [
    "logging.basicConfig(level=\"INFO\")"
   ]
  },
  {
   "cell_type": "code",
   "execution_count": 3,
   "metadata": {},
   "outputs": [],
   "source": [
    "import cobra\n",
    "from cobra.io import read_sbml_model"
   ]
  },
  {
   "cell_type": "markdown",
   "metadata": {},
   "source": [
    "The tutorial was created with the following software versions."
   ]
  },
  {
   "cell_type": "code",
   "execution_count": 4,
   "metadata": {},
   "outputs": [
    {
     "name": "stdout",
     "output_type": "stream",
     "text": [
      "\n",
      "System Information\n",
      "==================\n",
      "OS                    Linux\n",
      "OS-release 5.0.0-23-generic\n",
      "Python                3.6.8\n",
      "\n",
      "Package Versions\n",
      "================\n",
      "cobra                       0.16.0\n",
      "depinfo                      1.5.1\n",
      "future                      0.17.1\n",
      "numpy                       1.17.0\n",
      "optlang                      1.4.4\n",
      "pandas                      0.25.0\n",
      "pip                         19.2.1\n",
      "python-libsbml-experimental 5.18.0\n",
      "ruamel.yaml                 0.16.1\n",
      "setuptools                  41.0.1\n",
      "six                         1.12.0\n",
      "swiglpk                     4.65.0\n",
      "wheel                       0.33.4\n"
     ]
    }
   ],
   "source": [
    "cobra.show_versions()"
   ]
  },
  {
   "cell_type": "markdown",
   "metadata": {},
   "source": [
    "## Model"
   ]
  },
  {
   "cell_type": "code",
   "execution_count": 5,
   "metadata": {},
   "outputs": [],
   "source": [
    "p_falciparum = read_sbml_model(\"iPfal19.xml\")"
   ]
  },
  {
   "cell_type": "code",
   "execution_count": 12,
   "metadata": {},
   "outputs": [],
   "source": [
    "minimal = cobra.Model(\"minimal\", name=\"Minimal Demo Model\")"
   ]
  },
  {
   "cell_type": "markdown",
   "metadata": {},
   "source": [
    "Simply saving an empty model with an identifier and name to SBML will generate the following XML element:\n",
    "\n",
    "```xml\n",
    "<model metaid=\"meta_minimal\" id=\"minimal\" name=\"Minimal Demo Model\" fbc:strict=\"true\">\n",
    "```"
   ]
  },
  {
   "cell_type": "markdown",
   "metadata": {},
   "source": [
    "### Recognized naming convention"
   ]
  },
  {
   "cell_type": "markdown",
   "metadata": {},
   "source": [
    "# TODO: Recommendation is missing."
   ]
  },
  {
   "cell_type": "markdown",
   "metadata": {},
   "source": [
    "### Machine-readable reference to organism and species embedded via MIRIAM annotation"
   ]
  },
  {
   "cell_type": "markdown",
   "metadata": {},
   "source": [
    "We can find good information about a sequenced species at NCBI. _Plasmodium falciparum_ 3D7 is described [here](https://www.ncbi.nlm.nih.gov/genome/33?genome_assembly_id=369845)."
   ]
  },
  {
   "cell_type": "code",
   "execution_count": 8,
   "metadata": {},
   "outputs": [
    {
     "data": {
      "text/plain": [
       "{}"
      ]
     },
     "execution_count": 8,
     "metadata": {},
     "output_type": "execute_result"
    }
   ],
   "source": [
    "p_falciparum.annotation"
   ]
  },
  {
   "cell_type": "code",
   "execution_count": 14,
   "metadata": {},
   "outputs": [],
   "source": [
    "minimal.annotation[\"taxonomy\"] = \"36329\""
   ]
  },
  {
   "cell_type": "markdown",
   "metadata": {},
   "source": [
    "This ensures that the reconstruction's taxonomy is annotated. The `annotation` attribute is a Python dictionary whose key-value pairs are automatically converted to MIRIAM compatible URIs.\n",
    "\n",
    "```xml\n",
    "    <annotation>\n",
    "      <rdf:RDF xmlns:rdf=\"http://www.w3.org/1999/02/22-rdf-syntax-ns#\" xmlns:dcterms=\"http://purl.org/dc/terms/\" xmlns:vCard=\"http://www.w3.org/2001/vcard-rdf/3.0#\" xmlns:vCard4=\"http://www.w3.org/2006/vcard/ns#\" xmlns:bqbiol=\"http://biomodels.net/biology-qualifiers/\" xmlns:bqmodel=\"http://biomodels.net/model-qualifiers/\">\n",
    "        <rdf:Description rdf:about=\"#meta_minimal\">\n",
    "          <bqbiol:is>\n",
    "            <rdf:Bag>\n",
    "              <rdf:li rdf:resource=\"https://identifiers.org/taxonomy/36329\"/>\n",
    "            </rdf:Bag>\n",
    "          </bqbiol:is>\n",
    "        </rdf:Description>\n",
    "      </rdf:RDF>\n",
    "    </annotation>\n",
    "```\n",
    "\n",
    "Important elements here are the description which is about the `model` element due to the `metaid` (compare with section [Model](#Model)).\n",
    "\n",
    "```xml\n",
    "<rdf:Description rdf:about=\"#meta_minimal\">\n",
    "```\n",
    "\n",
    "The next important element is the biological qualifier\n",
    "\n",
    "```xml\n",
    "<bqbiol:is>\n",
    "```\n",
    "\n",
    "you can find out more about its meaning at [combine](https://co.mbine.org/standards/qualifiers) and [BioModels](https://www.ebi.ac.uk/biomodels-main/annotation).\n",
    "\n",
    "Finally, there is one MIRIAM compliant annotation that was generated by cobrapy.\n",
    "\n",
    "```xml\n",
    "<rdf:li rdf:resource=\"https://identifiers.org/taxonomy/36329\"/>\n",
    "```"
   ]
  },
  {
   "cell_type": "markdown",
   "metadata": {},
   "source": [
    "### NCBI reference genome"
   ]
  },
  {
   "cell_type": "markdown",
   "metadata": {},
   "source": [
    "The genome assembly is described [here](https://www.ncbi.nlm.nih.gov/assembly/GCF_000002765.4/)."
   ]
  },
  {
   "cell_type": "markdown",
   "metadata": {},
   "source": [
    "# TODO: It seems to me that identifiers.org does not support GCF identifiers? At least `refseq` registry pattern does not allow `GCF`."
   ]
  },
  {
   "cell_type": "code",
   "execution_count": 19,
   "metadata": {},
   "outputs": [],
   "source": [
    "minimal.annotation[\"insdc.gca\"] = \"GCA_000002765.2\""
   ]
  },
  {
   "cell_type": "markdown",
   "metadata": {},
   "source": [
    "Which leads to the following new SBML element:\n",
    "\n",
    "```xml\n",
    "<rdf:li rdf:resource=\"https://identifiers.org/insdc.gca/GCA_000002765.2\"/>\n",
    "```"
   ]
  },
  {
   "cell_type": "code",
   "execution_count": 16,
   "metadata": {},
   "outputs": [],
   "source": [
    "minimal.annotation[\"genedb\"] = \"Plasmodium_falciparum_3D7\""
   ]
  },
  {
   "cell_type": "markdown",
   "metadata": {},
   "source": [
    "This generates the following familiar element:\n",
    "\n",
    "```xml\n",
    "<rdf:li rdf:resource=\"https://identifiers.org/genedb/Plasmodium_falciparum_3D7\"/>\n",
    "```"
   ]
  },
  {
   "cell_type": "markdown",
   "metadata": {},
   "source": [
    "### Author(s) contact information embedded"
   ]
  },
  {
   "cell_type": "markdown",
   "metadata": {},
   "source": [
    "# TODO: Format recommendation is missing."
   ]
  },
  {
   "cell_type": "markdown",
   "metadata": {
    "toc-hr-collapsed": true
   },
   "source": [
    "## Metabolite"
   ]
  },
  {
   "cell_type": "markdown",
   "metadata": {},
   "source": [
    "### Human readable, descriptive name"
   ]
  },
  {
   "cell_type": "markdown",
   "metadata": {},
   "source": [
    "### Charge"
   ]
  },
  {
   "cell_type": "markdown",
   "metadata": {},
   "source": [
    "### Chemical formula"
   ]
  },
  {
   "cell_type": "markdown",
   "metadata": {},
   "source": [
    "### InChI strings"
   ]
  },
  {
   "cell_type": "markdown",
   "metadata": {},
   "source": [
    "### At least one database identifier from a reliable resource"
   ]
  },
  {
   "cell_type": "markdown",
   "metadata": {
    "toc-hr-collapsed": true
   },
   "source": [
    "## Biochemical reaction"
   ]
  },
  {
   "cell_type": "markdown",
   "metadata": {},
   "source": [
    "### Human readable, descriptive name"
   ]
  },
  {
   "cell_type": "markdown",
   "metadata": {},
   "source": [
    "### Reaction formula"
   ]
  },
  {
   "cell_type": "markdown",
   "metadata": {},
   "source": [
    "### Stoichiometric coefficients"
   ]
  },
  {
   "cell_type": "markdown",
   "metadata": {},
   "source": [
    "### At least one database identifier from a reliable resource"
   ]
  },
  {
   "cell_type": "markdown",
   "metadata": {},
   "source": [
    "### EC code"
   ]
  },
  {
   "cell_type": "markdown",
   "metadata": {
    "toc-hr-collapsed": true
   },
   "source": [
    "## Gene"
   ]
  },
  {
   "cell_type": "markdown",
   "metadata": {},
   "source": [
    "### Name and/or identifier"
   ]
  },
  {
   "cell_type": "markdown",
   "metadata": {},
   "source": [
    "### DNA sequence ID"
   ]
  },
  {
   "cell_type": "markdown",
   "metadata": {},
   "source": [
    "### Protein sequence ID"
   ]
  },
  {
   "cell_type": "markdown",
   "metadata": {},
   "source": [
    "### Position (including chromosome, if applicable)"
   ]
  },
  {
   "cell_type": "markdown",
   "metadata": {},
   "source": [
    "### Associated reactions (GPR)"
   ]
  },
  {
   "cell_type": "markdown",
   "metadata": {},
   "source": [
    "## Save Model"
   ]
  },
  {
   "cell_type": "code",
   "execution_count": 10,
   "metadata": {},
   "outputs": [],
   "source": [
    "from cobra.io import write_sbml_model"
   ]
  },
  {
   "cell_type": "code",
   "execution_count": 20,
   "metadata": {},
   "outputs": [],
   "source": [
    "write_sbml_model(minimal, \"minimal.xml\")"
   ]
  }
 ],
 "metadata": {
  "kernelspec": {
   "display_name": "Python 3",
   "language": "python",
   "name": "python3"
  },
  "language_info": {
   "codemirror_mode": {
    "name": "ipython",
    "version": 3
   },
   "file_extension": ".py",
   "mimetype": "text/x-python",
   "name": "python",
   "nbconvert_exporter": "python",
   "pygments_lexer": "ipython3",
   "version": "3.6.8"
  }
 },
 "nbformat": 4,
 "nbformat_minor": 4
}
